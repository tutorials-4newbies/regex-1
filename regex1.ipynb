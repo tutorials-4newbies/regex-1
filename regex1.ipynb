{
 "cells": [
  {
   "cell_type": "markdown",
   "metadata": {},
   "source": [
    "# Regex"
   ]
  },
  {
   "cell_type": "markdown",
   "metadata": {},
   "source": [
    "## איך אנחנו מחפשים מידע בטקסט"
   ]
  },
  {
   "cell_type": "code",
   "execution_count": 18,
   "metadata": {},
   "outputs": [
    {
     "name": "stdout",
     "output_type": "stream",
     "text": [
      "Far far away, behind the word mountains, far from the countries Vokalia and Consonantia, there live the blind texts. Separated they live in Bookmarksgrove right at the coast of the Semantics, a large.\n"
     ]
    }
   ],
   "source": [
    "some_text = \"Far far away, behind the word mountains, far from the countries Vokalia and Consonantia\"\n",
    "print(text)"
   ]
  },
  {
   "cell_type": "code",
   "execution_count": 12,
   "metadata": {},
   "outputs": [
    {
     "name": "stdout",
     "output_type": "stream",
     "text": [
      "True\n",
      "False\n"
     ]
    }
   ],
   "source": [
    "print('far from' in some_text)\n",
    "print('cat dog' in some_text)"
   ]
  },
  {
   "cell_type": "markdown",
   "metadata": {},
   "source": [
    "----"
   ]
  },
  {
   "cell_type": "markdown",
   "metadata": {},
   "source": [
    "### :נחפש טלפון בטקסט"
   ]
  },
  {
   "cell_type": "code",
   "execution_count": 20,
   "metadata": {},
   "outputs": [
    {
     "name": "stdout",
     "output_type": "stream",
     "text": [
      "Far far away, behind the word mountains, 050-984984 far from the countries Vokalia and Consonantia.\n"
     ]
    }
   ],
   "source": [
    "text_with_numbers = 'Far far away, behind the word mountains, 050-984984 far from the countries Vokalia and Consonantia.'\n",
    "print(text_with_numbers)"
   ]
  },
  {
   "cell_type": "code",
   "execution_count": 63,
   "metadata": {},
   "outputs": [
    {
     "name": "stdout",
     "output_type": "stream",
     "text": [
      "True\n",
      "True\n"
     ]
    }
   ],
   "source": [
    "print('0' in text_with_numbers)\n",
    "print('050' in text_with_numbers)"
   ]
  },
  {
   "cell_type": "code",
   "execution_count": 44,
   "metadata": {},
   "outputs": [
    {
     "name": "stdout",
     "output_type": "stream",
     "text": [
      "41\n"
     ]
    }
   ],
   "source": [
    "print(text_with_numbers.find('050'))"
   ]
  },
  {
   "cell_type": "code",
   "execution_count": 45,
   "metadata": {},
   "outputs": [
    {
     "name": "stdout",
     "output_type": "stream",
     "text": [
      "0\n"
     ]
    }
   ],
   "source": [
    "print(text_with_numbers[41])"
   ]
  },
  {
   "cell_type": "code",
   "execution_count": 58,
   "metadata": {},
   "outputs": [
    {
     "name": "stdout",
     "output_type": "stream",
     "text": [
      "050-984984 \n"
     ]
    }
   ],
   "source": [
    "start = text_with_numbers.find('050')\n",
    "print(text_with_numbers[start:start+11])"
   ]
  },
  {
   "cell_type": "markdown",
   "metadata": {},
   "source": [
    "### האם אפשר לחפש מספר בטקסט ישירות?"
   ]
  },
  {
   "cell_type": "code",
   "execution_count": 60,
   "metadata": {},
   "outputs": [
    {
     "ename": "TypeError",
     "evalue": "'in <string>' requires string as left operand, not int",
     "output_type": "error",
     "traceback": [
      "\u001b[0;31m---------------------------------------------------------------------------\u001b[0m",
      "\u001b[0;31mTypeError\u001b[0m                                 Traceback (most recent call last)",
      "\u001b[0;32m<ipython-input-60-f05e3c2fbe6c>\u001b[0m in \u001b[0;36m<module>\u001b[0;34m\u001b[0m\n\u001b[0;32m----> 1\u001b[0;31m \u001b[0mprint\u001b[0m\u001b[0;34m(\u001b[0m\u001b[0;36m5\u001b[0m \u001b[0;32min\u001b[0m \u001b[0mtext_with_numbers\u001b[0m\u001b[0;34m)\u001b[0m\u001b[0;34m\u001b[0m\u001b[0;34m\u001b[0m\u001b[0m\n\u001b[0m",
      "\u001b[0;31mTypeError\u001b[0m: 'in <string>' requires string as left operand, not int"
     ]
    }
   ],
   "source": [
    "print(5 in text_with_numbers)"
   ]
  },
  {
   "cell_type": "markdown",
   "metadata": {},
   "source": [
    "#### זה חיפוש בסיסי שלא עונה על הרבה מקרים שונים ומשונים"
   ]
  },
  {
   "cell_type": "markdown",
   "metadata": {},
   "source": [
    "## על אילו מקרים זה לא עונה?"
   ]
  },
  {
   "cell_type": "code",
   "execution_count": 120,
   "metadata": {},
   "outputs": [
    {
     "name": "stdout",
     "output_type": "stream",
     "text": [
      "\n",
      " דרך ההגנה 34 תל אביב, מיקוד 6772137\n",
      "טל: 03-5125802 פקס: 03-5125801\n",
      "yesodot@drorisrael.org.il\n",
      "\n"
     ]
    }
   ],
   "source": [
    "yesodot = \"\"\"\n",
    " דרך ההגנה 34 תל אביב, מיקוד 6772137\n",
    "טל: 03-5125802 פקס: 03-5125801\n",
    "yesodot@drorisrael.org.il\n",
    "\"\"\"\n",
    "print(yesodot)\n"
   ]
  },
  {
   "cell_type": "markdown",
   "metadata": {},
   "source": [
    "### איך נוציא מידע ממוחשב מהטקסט הזה?"
   ]
  },
  {
   "cell_type": "markdown",
   "metadata": {},
   "source": [
    "## שאלה לדוגמה - מה הכללים של זיהוי כתובת דוא\"ל?"
   ]
  },
  {
   "cell_type": "markdown",
   "metadata": {},
   "source": [
    "----"
   ]
  },
  {
   "cell_type": "markdown",
   "metadata": {},
   "source": [
    "# RegEX\n",
    "### Regular Expression\n",
    "#### Regular -> Regulation -> רגולוציה -> חוקים ותקנות\n",
    "## ביטוי מתוקנן"
   ]
  },
  {
   "cell_type": "markdown",
   "metadata": {},
   "source": [
    "### re - a builtin python module"
   ]
  },
  {
   "cell_type": "code",
   "execution_count": 70,
   "metadata": {},
   "outputs": [
    {
     "name": "stdout",
     "output_type": "stream",
     "text": [
      "['A', 'ASCII', 'DEBUG', 'DOTALL', 'I', 'IGNORECASE', 'L', 'LOCALE', 'M', 'MULTILINE', 'Match', 'Pattern', 'RegexFlag', 'S', 'Scanner', 'T', 'TEMPLATE', 'U', 'UNICODE', 'VERBOSE', 'X', '_MAXCACHE', '__all__', '__builtins__', '__cached__', '__doc__', '__file__', '__loader__', '__name__', '__package__', '__spec__', '__version__', '_cache', '_compile', '_compile_repl', '_expand', '_locale', '_pickle', '_special_chars_map', '_subx', 'compile', 'copyreg', 'enum', 'error', 'escape', 'findall', 'finditer', 'fullmatch', 'functools', 'match', 'purge', 'search', 'split', 'sre_compile', 'sre_parse', 'sub', 'subn', 'template']\n"
     ]
    }
   ],
   "source": [
    "import re\n",
    "print(dir(re))"
   ]
  },
  {
   "cell_type": "code",
   "execution_count": 74,
   "metadata": {},
   "outputs": [
    {
     "data": {
      "text/plain": [
       "<re.Match object; span=(58, 68), match='03-5125801'>"
      ]
     },
     "execution_count": 74,
     "metadata": {},
     "output_type": "execute_result"
    }
   ],
   "source": [
    "re.search('03-5125801', yesodot)"
   ]
  },
  {
   "cell_type": "code",
   "execution_count": 84,
   "metadata": {},
   "outputs": [
    {
     "name": "stdout",
     "output_type": "stream",
     "text": [
      "<re.Match object; span=(58, 68), match='03-5125801'>\n",
      "<class 're.Match'>\n",
      "03-5125801\n"
     ]
    }
   ],
   "source": [
    "match = re.search('03-5125801',yesodot)\n",
    "print(match)\n",
    "print(type(match))\n",
    "print(match.group())"
   ]
  },
  {
   "cell_type": "markdown",
   "metadata": {},
   "source": [
    "## אבל זה לא ממש עוזר לחפש באופן הזה..."
   ]
  },
  {
   "cell_type": "markdown",
   "metadata": {},
   "source": [
    "----"
   ]
  },
  {
   "cell_type": "markdown",
   "metadata": {},
   "source": [
    "### נכתוב ביטוי מתוקנן לעניין:"
   ]
  },
  {
   "cell_type": "code",
   "execution_count": 137,
   "metadata": {},
   "outputs": [],
   "source": [
    "re_exp = '(\\d{2}?-?\\d+)'"
   ]
  },
  {
   "cell_type": "code",
   "execution_count": 131,
   "metadata": {},
   "outputs": [
    {
     "name": "stdout",
     "output_type": "stream",
     "text": [
      "6772137\n"
     ]
    }
   ],
   "source": [
    "match = re.search(re_exp, yesodot)\n",
    "print(match.group())"
   ]
  },
  {
   "cell_type": "code",
   "execution_count": 141,
   "metadata": {},
   "outputs": [
    {
     "name": "stdout",
     "output_type": "stream",
     "text": [
      "\n",
      " דרך ההגנה 34 תל אביב, מיקוד 6772137\n",
      "טל: 03-5125802 פקס: 03-5125801\n",
      "yesodot@drorisrael.org.il\n",
      "\n",
      "['6772137', '03-5125802', '03-5125801']\n"
     ]
    }
   ],
   "source": [
    "print(yesodot)\n",
    "all_phones = re.findall(re_exp, yesodot)\n",
    "print(all_phones)"
   ]
  },
  {
   "cell_type": "markdown",
   "metadata": {},
   "source": [
    "----"
   ]
  },
  {
   "cell_type": "markdown",
   "metadata": {},
   "source": [
    "# מה זה???? '(\\d{2}?-?\\d+)'"
   ]
  },
  {
   "cell_type": "markdown",
   "metadata": {},
   "source": [
    "שאלה טובה..\n",
    "\n",
    "נתחיל לתרגל כאן:\n",
    "https://regexone.com/"
   ]
  }
 ],
 "metadata": {
  "kernelspec": {
   "display_name": "Python 3",
   "language": "python",
   "name": "python3"
  },
  "language_info": {
   "codemirror_mode": {
    "name": "ipython",
    "version": 3
   },
   "file_extension": ".py",
   "mimetype": "text/x-python",
   "name": "python",
   "nbconvert_exporter": "python",
   "pygments_lexer": "ipython3",
   "version": "3.8.0"
  }
 },
 "nbformat": 4,
 "nbformat_minor": 4
}
